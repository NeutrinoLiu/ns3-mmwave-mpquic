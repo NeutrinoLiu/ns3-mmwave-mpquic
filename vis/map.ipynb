{
 "cells": [
  {
   "cell_type": "code",
   "execution_count": 2,
   "metadata": {},
   "outputs": [
    {
     "name": "stdout",
     "output_type": "stream",
     "text": [
      "[50, 50]\n",
      "[70, 60]\n",
      "[150, 150]\n",
      "[70, 60]\n"
     ]
    },
    {
     "data": {
      "image/png": "[encoded data removed]",
      "text/plain": [
       "<Figure size 640x480 with 1 Axes>"
      ]
     },
     "metadata": {},
     "output_type": "display_data"
    }
   ],
   "source": [
    "import matplotlib.pyplot as plt\n",
    "from matplotlib.patches import Rectangle\n",
    "\n",
    "#define Matplotlib figure and axis\n",
    "fig, ax = plt.subplots()\n",
    "\n",
    "\n",
    "# ue traces\n",
    "ax.scatter([60, 140],[-5,-5], c='grey')\n",
    "\n",
    "# show all range\n",
    "def drawPoints(fname, cellid):\n",
    "    with open(fname, 'r') as f:\n",
    "        raw = f.readlines()\n",
    "    lx = []\n",
    "    ly = []\n",
    "    for r in raw:\n",
    "        if r.split(' ')[2] == '\"{}\"'.format(cellid):\n",
    "            lx.append(int(r.split(' ')[4].split(',')[0]))\n",
    "            ly.append(int(r.split(' ')[4].split(',')[1]))\n",
    "    print(lx)\n",
    "    print(ly)\n",
    "    ax.scatter(lx, ly, label=cellid)\n",
    "def drawBlocks(fname):\n",
    "    with open(fname, 'r') as f:\n",
    "        raw = f.readlines()\n",
    "    for r in raw:\n",
    "        try:\n",
    "            start_str = r.split(' ')[5]\n",
    "            sx = float(start_str.split(',')[0])\n",
    "            sy = float(start_str.split(',')[1])\n",
    "            end_str = r.split(' ')[7]\n",
    "            ex = float(end_str.split(',')[0])\n",
    "            ey = float(end_str.split(',')[1])\n",
    "            #add rectangle to plot\n",
    "            ax.add_patch(Rectangle((sx, sy), ex-sx, ey-sy))\n",
    "            # print(r.split(' ')[2])\n",
    "        except:\n",
    "            continue\n",
    "\n",
    "drawBlocks('../working_space_output/buildings.txt')\n",
    "drawPoints('../working_space_output/enbs.txt',2)\n",
    "drawPoints('../working_space_output/enbs.txt',3)\n",
    "# drawPoints('../vdemo/enbs.txt',4)\n",
    "# drawPoints('../vdemo/enbs.txt',6)\n",
    "# drawPoints('../vdemo/enbs.txt',7)\n",
    "# plt.legend()\n",
    "#display plot\n",
    "plt.show()"
   ]
  }
 ],
 "metadata": {
  "kernelspec": {
   "display_name": "Python 3 (ipykernel)",
   "language": "python",
   "name": "python3"
  },
  "language_info": {
   "codemirror_mode": {
    "name": "ipython",
    "version": 3
   },
   "file_extension": ".py",
   "mimetype": "text/x-python",
   "name": "python",
   "nbconvert_exporter": "python",
   "pygments_lexer": "ipython3",
   "version": "3.10.12"
  },
  "orig_nbformat": 4
 },
 "nbformat": 4,
 "nbformat_minor": 2
}
